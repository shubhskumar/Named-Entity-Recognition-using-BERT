{
  "cells": [
    {
      "cell_type": "markdown",
      "metadata": {
        "id": "6FVQ2xo_2xqC"
      },
      "source": [
        "Authors - Shubhankar and Achintya"
      ]
    },
    {
      "cell_type": "code",
      "execution_count": null,
      "metadata": {
        "id": "c5HYgxEF2xqD"
      },
      "outputs": [],
      "source": [
        "import pandas as pd\n",
        "import numpy as np\n",
        "import transformers\n",
        "import torch\n",
        "import os\n",
        "from tqdm import tqdm\n",
        "from torch.utils.data import DataLoader\n",
        "from NERDA.models import NERDA\n",
        "import helper\n",
        "import warnings\n",
        "warnings.filterwarnings(\"ignore\")"
      ]
    },
    {
      "cell_type": "code",
      "execution_count": null,
      "metadata": {
        "id": "UcnPe_D92xqE"
      },
      "outputs": [],
      "source": [
        "pd.set_option('display.max_rows', 50)\n",
        "pd.set_option('display.max_columns', 10)"
      ]
    },
    {
      "cell_type": "code",
      "execution_count": null,
      "metadata": {
        "id": "xmN25tA92xqF"
      },
      "outputs": [],
      "source": [
        "path_ner = './ner'\n",
        "path_ner_model = './ner/ner_model_saved'\n",
        "\n",
        "os.makedirs(path_ner, exist_ok=True)\n",
        "os.makedirs(path_ner_model, exist_ok=True)"
      ]
    },
    {
      "cell_type": "code",
      "execution_count": null,
      "metadata": {
        "id": "9PIOA3Nh2xqF",
        "outputId": "e9f2746c-13c0-4bb4-bf07-7904e4d1f84a"
      },
      "outputs": [
        {
          "data": {
            "text/plain": [
              "'c:\\\\Users\\\\yashb\\\\OneDrive\\\\Desktop\\\\UChicago Courses\\\\Quarter-2\\\\Data Mining - Utku\\\\PII-DETECTION\\\\code'"
            ]
          },
          "execution_count": 5,
          "metadata": {},
          "output_type": "execute_result"
        }
      ],
      "source": [
        "os.getcwd()"
      ]
    },
    {
      "cell_type": "markdown",
      "metadata": {
        "id": "iXf49Tw72xqG"
      },
      "source": [
        "#### If using df_labels.csv (skip below in the final version)"
      ]
    },
    {
      "cell_type": "code",
      "execution_count": null,
      "metadata": {
        "id": "jeY6ulZ62xqG"
      },
      "outputs": [],
      "source": [
        "# Define a function to convert string representation of lists to actual lists\n",
        "def convert_to_list(string):\n",
        "    import ast\n",
        "    try:\n",
        "        return ast.literal_eval(string)\n",
        "    except (SyntaxError, ValueError):\n",
        "        # If there's an error, return the original value\n",
        "        return string"
      ]
    },
    {
      "cell_type": "code",
      "execution_count": null,
      "metadata": {
        "id": "Jdul_C962xqH"
      },
      "outputs": [],
      "source": [
        "cols_to_convert = ['full_text', 'tokens', 'trailing_whitespace','labels', 'unique_labels']\n",
        "df = pd.read_csv('../archive/df_labels.csv', converters={key: convert_to_list for key in cols_to_convert})"
      ]
    },
    {
      "cell_type": "markdown",
      "metadata": {
        "id": "CX4QPJj72xqH"
      },
      "source": [
        "#### continue from here"
      ]
    },
    {
      "cell_type": "code",
      "execution_count": null,
      "metadata": {
        "id": "U22V2NlC2xqH",
        "outputId": "3215d73a-96da-4fa0-aee0-0a5ccecfd1e5"
      },
      "outputs": [
        {
          "name": "stdout",
          "output_type": "stream",
          "text": [
            "kaggle train data = 6807\n",
            "gemma data =  1390\n",
            "df_mpware data = 2355\n",
            "all_labels = ['B-EMAIL', 'B-ID_NUM', 'B-NAME_STUDENT', 'B-PHONE_NUM', 'B-STREET_ADDRESS', 'B-URL_PERSONAL', 'B-USERNAME', 'I-EMAIL', 'I-ID_NUM', 'I-NAME_STUDENT', 'I-PHONE_NUM', 'I-STREET_ADDRESS', 'I-URL_PERSONAL', 'I-USERNAME', 'O']\n"
          ]
        }
      ],
      "source": [
        "df, all_labels, label2id, id2label = helper.load_data()"
      ]
    },
    {
      "cell_type": "code",
      "execution_count": null,
      "metadata": {
        "id": "Xj-9_OVq2xqI",
        "outputId": "c72f873e-f1e1-467d-df20-4fc6f2f35cf0"
      },
      "outputs": [
        {
          "data": {
            "text/plain": [
              "(12552, 5)"
            ]
          },
          "execution_count": 13,
          "metadata": {},
          "output_type": "execute_result"
        }
      ],
      "source": [
        "df.shape"
      ]
    },
    {
      "cell_type": "code",
      "execution_count": null,
      "metadata": {
        "id": "XHACS2-z2xqI",
        "outputId": "6502d297-a562-4bd7-9dad-2d9fa3a7c9d2"
      },
      "outputs": [
        {
          "data": {
            "text/html": [
              "<div>\n",
              "<style scoped>\n",
              "    .dataframe tbody tr th:only-of-type {\n",
              "        vertical-align: middle;\n",
              "    }\n",
              "\n",
              "    .dataframe tbody tr th {\n",
              "        vertical-align: top;\n",
              "    }\n",
              "\n",
              "    .dataframe thead th {\n",
              "        text-align: right;\n",
              "    }\n",
              "</style>\n",
              "<table border=\"1\" class=\"dataframe\">\n",
              "  <thead>\n",
              "    <tr style=\"text-align: right;\">\n",
              "      <th></th>\n",
              "      <th>document</th>\n",
              "      <th>full_text</th>\n",
              "      <th>tokens</th>\n",
              "      <th>trailing_whitespace</th>\n",
              "      <th>labels</th>\n",
              "    </tr>\n",
              "  </thead>\n",
              "  <tbody>\n",
              "    <tr>\n",
              "      <th>0</th>\n",
              "      <td>0</td>\n",
              "      <td>Design Thinking for innovation reflexion-Avril...</td>\n",
              "      <td>[Design, Thinking, for, innovation, reflexion,...</td>\n",
              "      <td>[True, True, True, True, False, False, True, F...</td>\n",
              "      <td>[O, O, O, O, O, O, O, O, O, B-NAME_STUDENT, I-...</td>\n",
              "    </tr>\n",
              "    <tr>\n",
              "      <th>1</th>\n",
              "      <td>1</td>\n",
              "      <td>Diego Estrada\\n\\nDesign Thinking Assignment\\n\\...</td>\n",
              "      <td>[Diego, Estrada, \\n\\n, Design, Thinking, Assig...</td>\n",
              "      <td>[True, False, False, True, True, False, False,...</td>\n",
              "      <td>[B-NAME_STUDENT, I-NAME_STUDENT, O, O, O, O, O...</td>\n",
              "    </tr>\n",
              "    <tr>\n",
              "      <th>2</th>\n",
              "      <td>2</td>\n",
              "      <td>Reporting process\\n\\nby Gilberto Gamboa\\n\\nCha...</td>\n",
              "      <td>[Reporting, process, \\n\\n, by, Gilberto, Gambo...</td>\n",
              "      <td>[True, False, False, True, True, False, False,...</td>\n",
              "      <td>[O, O, O, O, B-NAME_STUDENT, I-NAME_STUDENT, O...</td>\n",
              "    </tr>\n",
              "    <tr>\n",
              "      <th>3</th>\n",
              "      <td>3</td>\n",
              "      <td>Design Thinking for Innovation\\n\\nSindy Samaca...</td>\n",
              "      <td>[Design, Thinking, for, Innovation, \\n\\n, Sind...</td>\n",
              "      <td>[True, True, True, False, False, True, False, ...</td>\n",
              "      <td>[O, O, O, O, O, B-NAME_STUDENT, I-NAME_STUDENT...</td>\n",
              "    </tr>\n",
              "    <tr>\n",
              "      <th>4</th>\n",
              "      <td>4</td>\n",
              "      <td>Assignment:  Visualization Reflection  Submitt...</td>\n",
              "      <td>[Assignment, :,   , Visualization,  , Reflecti...</td>\n",
              "      <td>[False, False, False, False, False, False, Fal...</td>\n",
              "      <td>[O, O, O, O, O, O, O, O, O, O, O, O, B-NAME_ST...</td>\n",
              "    </tr>\n",
              "  </tbody>\n",
              "</table>\n",
              "</div>"
            ],
            "text/plain": [
              "   document                                          full_text  \\\n",
              "0         0  Design Thinking for innovation reflexion-Avril...   \n",
              "1         1  Diego Estrada\\n\\nDesign Thinking Assignment\\n\\...   \n",
              "2         2  Reporting process\\n\\nby Gilberto Gamboa\\n\\nCha...   \n",
              "3         3  Design Thinking for Innovation\\n\\nSindy Samaca...   \n",
              "4         4  Assignment:  Visualization Reflection  Submitt...   \n",
              "\n",
              "                                              tokens  \\\n",
              "0  [Design, Thinking, for, innovation, reflexion,...   \n",
              "1  [Diego, Estrada, \\n\\n, Design, Thinking, Assig...   \n",
              "2  [Reporting, process, \\n\\n, by, Gilberto, Gambo...   \n",
              "3  [Design, Thinking, for, Innovation, \\n\\n, Sind...   \n",
              "4  [Assignment, :,   , Visualization,  , Reflecti...   \n",
              "\n",
              "                                 trailing_whitespace  \\\n",
              "0  [True, True, True, True, False, False, True, F...   \n",
              "1  [True, False, False, True, True, False, False,...   \n",
              "2  [True, False, False, True, True, False, False,...   \n",
              "3  [True, True, True, False, False, True, False, ...   \n",
              "4  [False, False, False, False, False, False, Fal...   \n",
              "\n",
              "                                              labels  \n",
              "0  [O, O, O, O, O, O, O, O, O, B-NAME_STUDENT, I-...  \n",
              "1  [B-NAME_STUDENT, I-NAME_STUDENT, O, O, O, O, O...  \n",
              "2  [O, O, O, O, B-NAME_STUDENT, I-NAME_STUDENT, O...  \n",
              "3  [O, O, O, O, O, B-NAME_STUDENT, I-NAME_STUDENT...  \n",
              "4  [O, O, O, O, O, O, O, O, O, O, O, O, B-NAME_ST...  "
            ]
          },
          "execution_count": 14,
          "metadata": {},
          "output_type": "execute_result"
        }
      ],
      "source": [
        "df.head()"
      ]
    },
    {
      "cell_type": "code",
      "execution_count": null,
      "metadata": {
        "id": "04e9bGdi2xqK",
        "outputId": "29369bca-bfdf-48a6-8b2b-78baf0f250ab"
      },
      "outputs": [
        {
          "data": {
            "text/plain": [
              "Counter({'O': 8980724,\n",
              "         'I-STREET_ADDRESS': 26344,\n",
              "         'I-NAME_STUDENT': 21765,\n",
              "         'I-PHONE_NUM': 15365,\n",
              "         'B-NAME_STUDENT': 10462,\n",
              "         'B-USERNAME': 4256,\n",
              "         'B-URL_PERSONAL': 4148,\n",
              "         'B-PHONE_NUM': 4020,\n",
              "         'B-EMAIL': 3983,\n",
              "         'B-STREET_ADDRESS': 3570,\n",
              "         'B-ID_NUM': 3334,\n",
              "         'I-ID_NUM': 1117,\n",
              "         'I-USERNAME': 847,\n",
              "         'I-EMAIL': 69,\n",
              "         'I-URL_PERSONAL': 31})"
            ]
          },
          "execution_count": 15,
          "metadata": {},
          "output_type": "execute_result"
        }
      ],
      "source": [
        "from collections import Counter\n",
        "c = Counter(df['labels'].explode().to_list())\n",
        "c"
      ]
    },
    {
      "cell_type": "code",
      "execution_count": null,
      "metadata": {
        "id": "GU2bONgs2xqK",
        "outputId": "43a13e85-9732-4be4-c346-d4292fbb4b96"
      },
      "outputs": [
        {
          "data": {
            "text/plain": [
              "Index(['document', 'full_text', 'tokens', 'trailing_whitespace', 'labels'], dtype='object')"
            ]
          },
          "execution_count": 16,
          "metadata": {},
          "output_type": "execute_result"
        }
      ],
      "source": [
        "df.columns"
      ]
    },
    {
      "cell_type": "code",
      "execution_count": null,
      "metadata": {
        "id": "hCtlNwy72xqK",
        "outputId": "52fe5029-c6ef-4a1d-e823-edd636b9c9cd"
      },
      "outputs": [
        {
          "name": "stdout",
          "output_type": "stream",
          "text": [
            "True\n",
            "_CudaDeviceProperties(name='NVIDIA GeForce RTX 4050 Laptop GPU', major=8, minor=9, total_memory=6140MB, multi_processor_count=20)\n"
          ]
        }
      ],
      "source": [
        "## training on gpu\n",
        "print(torch.cuda.is_available())\n",
        "print(torch.cuda.get_device_properties(\"cuda\"))"
      ]
    },
    {
      "cell_type": "code",
      "execution_count": null,
      "metadata": {
        "id": "qTvkkixP2xqL"
      },
      "outputs": [],
      "source": [
        "import gc\n",
        "def clear_memory():\n",
        "    torch.cuda.empty_cache()\n",
        "    gc.collect()\n",
        "\n",
        "clear_memory()"
      ]
    },
    {
      "cell_type": "code",
      "execution_count": null,
      "metadata": {
        "id": "PB6K3ZB52xqL",
        "outputId": "b7e7b73e-8486-4455-e3a8-62377c61f936"
      },
      "outputs": [
        {
          "data": {
            "text/plain": [
              "True"
            ]
          },
          "execution_count": 19,
          "metadata": {},
          "output_type": "execute_result"
        }
      ],
      "source": [
        "len(df['tokens'].iloc[0]) == len(df['labels'].iloc[0]) ## checking if the \\n\\n token also has the corresponding tags in the labels column, it does!"
      ]
    },
    {
      "cell_type": "code",
      "execution_count": null,
      "metadata": {
        "id": "GeFjNAhD2xqL",
        "outputId": "af9cc8a4-8760-49d5-b400-92f019a22501"
      },
      "outputs": [
        {
          "name": "stdout",
          "output_type": "stream",
          "text": [
            "Number of true_labels = 4690\n",
            "Number of false_labels = 5862\n",
            "true_samples = 4540 true_others = 150\n",
            "false_samples = 5712 false_others = 150\n",
            "Number of train_df = 10252\n",
            "Number of valid_df = 300\n"
          ]
        }
      ],
      "source": [
        "train_df, valid_df = helper.downsample_df(df.copy())\n",
        "train_df.reset_index(drop=True, inplace=True)\n",
        "valid_df.reset_index(drop=True, inplace=True)\n",
        "print(f\"Number of train_df = {len(train_df)}\")\n",
        "print(f\"Number of valid_df = {len(valid_df)}\")\n",
        "clear_memory()"
      ]
    },
    {
      "cell_type": "code",
      "execution_count": null,
      "metadata": {
        "id": "JiJeKhW82xqL",
        "outputId": "9e93b714-d632-4ccb-fdd8-01deac5c16dd"
      },
      "outputs": [
        {
          "data": {
            "text/plain": [
              "((12252, 6), (300, 6))"
            ]
          },
          "execution_count": 27,
          "metadata": {},
          "output_type": "execute_result"
        }
      ],
      "source": [
        "train_df.shape, valid_df.shape"
      ]
    },
    {
      "cell_type": "code",
      "execution_count": null,
      "metadata": {
        "id": "mF24CX9d2xqM",
        "outputId": "79c5eb6e-05b0-47aa-fb01-8194c564dbae"
      },
      "outputs": [
        {
          "data": {
            "text/plain": [
              "3298"
            ]
          },
          "execution_count": 28,
          "metadata": {},
          "output_type": "execute_result"
        }
      ],
      "source": [
        "lengths = df['tokens'].apply(lambda x: len(x))\n",
        "max(lengths)"
      ]
    },
    {
      "cell_type": "code",
      "execution_count": null,
      "metadata": {
        "id": "peyziMDp2xqM"
      },
      "outputs": [],
      "source": [
        "train_dict = {}\n",
        "train_dict['sentences'] = train_df['tokens'].to_list()\n",
        "train_dict['tags'] = train_df['labels'].to_list()\n",
        "\n",
        "validate_dict = {}\n",
        "validate_dict['sentences'] = valid_df['tokens'].to_list()\n",
        "validate_dict['tags'] = valid_df['labels'].to_list()"
      ]
    },
    {
      "cell_type": "code",
      "execution_count": null,
      "metadata": {
        "id": "hrFtZMWG2xqM"
      },
      "outputs": [],
      "source": [
        "tag_scheme = train_df['labels'].explode().unique().tolist()\n",
        "tag_scheme.remove('O')"
      ]
    },
    {
      "cell_type": "code",
      "execution_count": null,
      "metadata": {
        "id": "fM55VsNb2xqM"
      },
      "outputs": [],
      "source": [
        "# transformer = 'studio-ousia/luke-base'\n",
        "#transformer = 'studio-ousia/luke-large'\n",
        "# transformer = 'bert-base-uncased'\n",
        "#transformer = 'google/bigbird-roberta-base'\n",
        "transformer = 'distilbert-base-uncased'\n",
        "#transformer = 'distilroberta-base'\n",
        "#transformer = 'roberta-base'\n"
      ]
    },
    {
      "cell_type": "code",
      "execution_count": null,
      "metadata": {
        "id": "I3VbdZZ72xqN"
      },
      "outputs": [],
      "source": [
        "# hyperparameters for training\n",
        "training_hyperparameters = {\n",
        "'epochs' : 8,\n",
        "'warmup_steps' : 400,\n",
        "'train_batch_size': 8, #very sensitive to batch size; running 8 by default\n",
        " 'learning_rate': 0.0001\n",
        "}\n",
        "tokenizer_params = {\n",
        "    \"padding\": True\n",
        "    }"
      ]
    },
    {
      "cell_type": "code",
      "execution_count": null,
      "metadata": {
        "id": "wf5xPS0P2xqN",
        "outputId": "be93edb8-972c-4b19-ed6a-b948553d6377"
      },
      "outputs": [
        {
          "name": "stdout",
          "output_type": "stream",
          "text": [
            "Device set to: cuda\n"
          ]
        }
      ],
      "source": [
        "ner_model = NERDA(dataset_training = train_dict,\n",
        "              dataset_validation = validate_dict,\n",
        "              tag_scheme = tag_scheme,\n",
        "              tag_outside = 'O',\n",
        "              max_len = 512,\n",
        "              transformer = transformer,\n",
        "              dropout = 0.1,\n",
        "              hyperparameters = training_hyperparameters,\n",
        "              device='cuda',\n",
        "              num_workers=8,\n",
        "              tokenizer_parameters = tokenizer_params)"
      ]
    },
    {
      "cell_type": "code",
      "execution_count": null,
      "metadata": {
        "id": "ZlhCgQki2xqN",
        "outputId": "481b3d05-c704-41be-8cd3-7f1d8b032ec0"
      },
      "outputs": [
        {
          "data": {
            "text/plain": [
              "DistilBertTokenizerFast(name_or_path='distilbert-base-uncased', vocab_size=30522, model_max_length=512, is_fast=True, padding_side='right', truncation_side='right', special_tokens={'unk_token': '[UNK]', 'sep_token': '[SEP]', 'pad_token': '[PAD]', 'cls_token': '[CLS]', 'mask_token': '[MASK]'}, clean_up_tokenization_spaces=True),  added_tokens_decoder={\n",
              "\t0: AddedToken(\"[PAD]\", rstrip=False, lstrip=False, single_word=False, normalized=False, special=True),\n",
              "\t100: AddedToken(\"[UNK]\", rstrip=False, lstrip=False, single_word=False, normalized=False, special=True),\n",
              "\t101: AddedToken(\"[CLS]\", rstrip=False, lstrip=False, single_word=False, normalized=False, special=True),\n",
              "\t102: AddedToken(\"[SEP]\", rstrip=False, lstrip=False, single_word=False, normalized=False, special=True),\n",
              "\t103: AddedToken(\"[MASK]\", rstrip=False, lstrip=False, single_word=False, normalized=False, special=True),\n",
              "}"
            ]
          },
          "execution_count": 18,
          "metadata": {},
          "output_type": "execute_result"
        }
      ],
      "source": [
        "ner_model.transformer_tokenizer"
      ]
    },
    {
      "cell_type": "code",
      "execution_count": null,
      "metadata": {
        "id": "HBYGjx-s2xqN",
        "outputId": "2c61a498-0039-40bf-b897-bd786053c744"
      },
      "outputs": [
        {
          "name": "stderr",
          "output_type": "stream",
          "text": [
            "c:\\Users\\yashb\\anaconda3\\envs\\nlp_new\\Lib\\site-packages\\transformers\\optimization.py:429: FutureWarning: This implementation of AdamW is deprecated and will be removed in a future version. Use the PyTorch implementation torch.optim.AdamW instead, or set `no_deprecation_warning=True` to disable this warning\n",
            "  warnings.warn(\n"
          ]
        },
        {
          "name": "stdout",
          "output_type": "stream",
          "text": [
            "\n",
            " Epoch 1 / 8\n"
          ]
        },
        {
          "name": "stderr",
          "output_type": "stream",
          "text": [
            "  0%|          | 0/1532 [00:00<?, ?it/s]We strongly recommend passing in an `attention_mask` since your input_ids may be padded. See https://huggingface.co/docs/transformers/troubleshooting#incorrect-output-when-padding-tokens-arent-masked.\n",
            "100%|██████████| 1532/1532 [11:39<00:00,  2.19it/s]\n",
            "100%|██████████| 38/38 [00:32<00:00,  1.17it/s]\n"
          ]
        },
        {
          "name": "stdout",
          "output_type": "stream",
          "text": [
            "Train Loss = 0.08099929709809106 Valid Loss = 0.1458051706519511\n",
            "\n",
            " Epoch 2 / 8\n"
          ]
        },
        {
          "name": "stderr",
          "output_type": "stream",
          "text": [
            "100%|██████████| 1532/1532 [13:14<00:00,  1.93it/s]  \n",
            "100%|██████████| 38/38 [00:21<00:00,  1.80it/s]\n"
          ]
        },
        {
          "name": "stdout",
          "output_type": "stream",
          "text": [
            "Train Loss = 0.008920432473420012 Valid Loss = 0.07075342964938165\n",
            "\n",
            " Epoch 3 / 8\n"
          ]
        },
        {
          "name": "stderr",
          "output_type": "stream",
          "text": [
            "100%|██████████| 1532/1532 [08:22<00:00,  3.05it/s]\n",
            "100%|██████████| 38/38 [00:21<00:00,  1.79it/s]\n"
          ]
        },
        {
          "name": "stdout",
          "output_type": "stream",
          "text": [
            "Train Loss = 0.006136141479006213 Valid Loss = 0.03425687145026084\n",
            "\n",
            " Epoch 4 / 8\n"
          ]
        },
        {
          "name": "stderr",
          "output_type": "stream",
          "text": [
            "100%|██████████| 1532/1532 [08:27<00:00,  3.02it/s]\n",
            "100%|██████████| 38/38 [00:21<00:00,  1.79it/s]\n"
          ]
        },
        {
          "name": "stdout",
          "output_type": "stream",
          "text": [
            "Train Loss = 0.004807169571538826 Valid Loss = 0.016978710569769885\n",
            "\n",
            " Epoch 5 / 8\n"
          ]
        },
        {
          "name": "stderr",
          "output_type": "stream",
          "text": [
            "100%|██████████| 1532/1532 [08:29<00:00,  3.01it/s]\n",
            "100%|██████████| 38/38 [00:21<00:00,  1.79it/s]\n"
          ]
        },
        {
          "name": "stdout",
          "output_type": "stream",
          "text": [
            "Train Loss = 0.003389501349394953 Valid Loss = 0.015185661573588348\n",
            "\n",
            " Epoch 6 / 8\n"
          ]
        },
        {
          "name": "stderr",
          "output_type": "stream",
          "text": [
            "100%|██████████| 1532/1532 [08:27<00:00,  3.02it/s]\n",
            "100%|██████████| 38/38 [00:21<00:00,  1.76it/s]\n"
          ]
        },
        {
          "name": "stdout",
          "output_type": "stream",
          "text": [
            "Train Loss = 0.0025931950973748395 Valid Loss = 0.012943141032002657\n",
            "\n",
            " Epoch 7 / 8\n"
          ]
        },
        {
          "name": "stderr",
          "output_type": "stream",
          "text": [
            "100%|██████████| 1532/1532 [08:27<00:00,  3.02it/s]\n",
            "100%|██████████| 38/38 [00:21<00:00,  1.78it/s]\n"
          ]
        },
        {
          "name": "stdout",
          "output_type": "stream",
          "text": [
            "Train Loss = 0.0019269366479018064 Valid Loss = 0.008050331133242588\n",
            "\n",
            " Epoch 8 / 8\n"
          ]
        },
        {
          "name": "stderr",
          "output_type": "stream",
          "text": [
            "100%|██████████| 1532/1532 [08:25<00:00,  3.03it/s]\n",
            "100%|██████████| 38/38 [00:21<00:00,  1.77it/s]"
          ]
        },
        {
          "name": "stdout",
          "output_type": "stream",
          "text": [
            "Train Loss = 0.0014030131743304234 Valid Loss = 0.005494640699979706\n",
            "CPU times: total: 8min 43s\n",
            "Wall time: 1h 18min 36s\n"
          ]
        },
        {
          "name": "stderr",
          "output_type": "stream",
          "text": [
            "\n"
          ]
        },
        {
          "data": {
            "text/plain": [
              "'Model trained successfully'"
            ]
          },
          "execution_count": 19,
          "metadata": {},
          "output_type": "execute_result"
        }
      ],
      "source": [
        "%%time\n",
        "ner_model.train()"
      ]
    },
    {
      "cell_type": "code",
      "execution_count": null,
      "metadata": {
        "id": "l2h16nBb2xqN"
      },
      "outputs": [],
      "source": [
        "torch.save(ner_model, path_ner_model + '/' + transformer + '_ner_model_data_augmented_v2.pt')"
      ]
    },
    {
      "cell_type": "code",
      "execution_count": null,
      "metadata": {
        "id": "pojQ0fY12xqN"
      },
      "outputs": [],
      "source": [
        "ner_model = torch.load(\"./ner/ner_model_saved/distilbert-base-uncased_ner_model_data_augmented_v1.pt\")"
      ]
    },
    {
      "cell_type": "code",
      "execution_count": null,
      "metadata": {
        "id": "fvUeh49O2xqN",
        "outputId": "f8389545-0272-4ac2-a8d0-3a320a7bdbc7"
      },
      "outputs": [
        {
          "name": "stderr",
          "output_type": "stream",
          "text": [
            "We strongly recommend passing in an `attention_mask` since your input_ids may be padded. See https://huggingface.co/docs/transformers/troubleshooting#incorrect-output-when-padding-tokens-arent-masked.\n"
          ]
        },
        {
          "data": {
            "text/html": [
              "<div>\n",
              "<style scoped>\n",
              "    .dataframe tbody tr th:only-of-type {\n",
              "        vertical-align: middle;\n",
              "    }\n",
              "\n",
              "    .dataframe tbody tr th {\n",
              "        vertical-align: top;\n",
              "    }\n",
              "\n",
              "    .dataframe thead th {\n",
              "        text-align: right;\n",
              "    }\n",
              "</style>\n",
              "<table border=\"1\" class=\"dataframe\">\n",
              "  <thead>\n",
              "    <tr style=\"text-align: right;\">\n",
              "      <th></th>\n",
              "      <th>Level</th>\n",
              "      <th>F1-Score</th>\n",
              "      <th>Precision</th>\n",
              "      <th>Recall</th>\n",
              "    </tr>\n",
              "  </thead>\n",
              "  <tbody>\n",
              "    <tr>\n",
              "      <th>0</th>\n",
              "      <td>B-NAME_STUDENT</td>\n",
              "      <td>0.801303</td>\n",
              "      <td>0.848276</td>\n",
              "      <td>0.759259</td>\n",
              "    </tr>\n",
              "    <tr>\n",
              "      <th>1</th>\n",
              "      <td>I-NAME_STUDENT</td>\n",
              "      <td>0.402260</td>\n",
              "      <td>0.410138</td>\n",
              "      <td>0.394678</td>\n",
              "    </tr>\n",
              "    <tr>\n",
              "      <th>2</th>\n",
              "      <td>B-ID_NUM</td>\n",
              "      <td>0.489796</td>\n",
              "      <td>0.489796</td>\n",
              "      <td>0.489796</td>\n",
              "    </tr>\n",
              "    <tr>\n",
              "      <th>3</th>\n",
              "      <td>B-USERNAME</td>\n",
              "      <td>0.331492</td>\n",
              "      <td>0.333333</td>\n",
              "      <td>0.329670</td>\n",
              "    </tr>\n",
              "    <tr>\n",
              "      <th>4</th>\n",
              "      <td>B-EMAIL</td>\n",
              "      <td>0.313953</td>\n",
              "      <td>0.303371</td>\n",
              "      <td>0.325301</td>\n",
              "    </tr>\n",
              "    <tr>\n",
              "      <th>5</th>\n",
              "      <td>B-URL_PERSONAL</td>\n",
              "      <td>0.247619</td>\n",
              "      <td>0.245283</td>\n",
              "      <td>0.250000</td>\n",
              "    </tr>\n",
              "    <tr>\n",
              "      <th>6</th>\n",
              "      <td>B-PHONE_NUM</td>\n",
              "      <td>0.258824</td>\n",
              "      <td>0.258824</td>\n",
              "      <td>0.258824</td>\n",
              "    </tr>\n",
              "    <tr>\n",
              "      <th>7</th>\n",
              "      <td>I-PHONE_NUM</td>\n",
              "      <td>0.624454</td>\n",
              "      <td>0.621739</td>\n",
              "      <td>0.627193</td>\n",
              "    </tr>\n",
              "    <tr>\n",
              "      <th>8</th>\n",
              "      <td>I-USERNAME</td>\n",
              "      <td>0.000000</td>\n",
              "      <td>0.000000</td>\n",
              "      <td>0.000000</td>\n",
              "    </tr>\n",
              "    <tr>\n",
              "      <th>9</th>\n",
              "      <td>B-STREET_ADDRESS</td>\n",
              "      <td>0.400000</td>\n",
              "      <td>0.402299</td>\n",
              "      <td>0.397727</td>\n",
              "    </tr>\n",
              "    <tr>\n",
              "      <th>10</th>\n",
              "      <td>I-STREET_ADDRESS</td>\n",
              "      <td>0.660701</td>\n",
              "      <td>0.698738</td>\n",
              "      <td>0.626591</td>\n",
              "    </tr>\n",
              "    <tr>\n",
              "      <th>11</th>\n",
              "      <td>I-EMAIL</td>\n",
              "      <td>0.000000</td>\n",
              "      <td>0.000000</td>\n",
              "      <td>0.000000</td>\n",
              "    </tr>\n",
              "    <tr>\n",
              "      <th>12</th>\n",
              "      <td>I-ID_NUM</td>\n",
              "      <td>0.582278</td>\n",
              "      <td>0.589744</td>\n",
              "      <td>0.575000</td>\n",
              "    </tr>\n",
              "    <tr>\n",
              "      <th>13</th>\n",
              "      <td>I-URL_PERSONAL</td>\n",
              "      <td>0.000000</td>\n",
              "      <td>0.000000</td>\n",
              "      <td>0.000000</td>\n",
              "    </tr>\n",
              "    <tr>\n",
              "      <th>14</th>\n",
              "      <td>AVG_MICRO</td>\n",
              "      <td>0.521368</td>\n",
              "      <td>NaN</td>\n",
              "      <td>NaN</td>\n",
              "    </tr>\n",
              "    <tr>\n",
              "      <th>15</th>\n",
              "      <td>AVG_MICRO</td>\n",
              "      <td>0.365191</td>\n",
              "      <td>NaN</td>\n",
              "      <td>NaN</td>\n",
              "    </tr>\n",
              "  </tbody>\n",
              "</table>\n",
              "</div>"
            ],
            "text/plain": [
              "               Level  F1-Score  Precision    Recall\n",
              "0     B-NAME_STUDENT  0.801303   0.848276  0.759259\n",
              "1     I-NAME_STUDENT  0.402260   0.410138  0.394678\n",
              "2           B-ID_NUM  0.489796   0.489796  0.489796\n",
              "3         B-USERNAME  0.331492   0.333333  0.329670\n",
              "4            B-EMAIL  0.313953   0.303371  0.325301\n",
              "5     B-URL_PERSONAL  0.247619   0.245283  0.250000\n",
              "6        B-PHONE_NUM  0.258824   0.258824  0.258824\n",
              "7        I-PHONE_NUM  0.624454   0.621739  0.627193\n",
              "8         I-USERNAME  0.000000   0.000000  0.000000\n",
              "9   B-STREET_ADDRESS  0.400000   0.402299  0.397727\n",
              "10  I-STREET_ADDRESS  0.660701   0.698738  0.626591\n",
              "11           I-EMAIL  0.000000   0.000000  0.000000\n",
              "12          I-ID_NUM  0.582278   0.589744  0.575000\n",
              "13    I-URL_PERSONAL  0.000000   0.000000  0.000000\n",
              "14         AVG_MICRO  0.521368        NaN       NaN\n",
              "15         AVG_MICRO  0.365191        NaN       NaN"
            ]
          },
          "execution_count": 12,
          "metadata": {},
          "output_type": "execute_result"
        }
      ],
      "source": [
        "ner_model.evaluate_performance(validate_dict)"
      ]
    },
    {
      "cell_type": "code",
      "execution_count": null,
      "metadata": {
        "id": "Ca9hp8Eg2xqN"
      },
      "outputs": [],
      "source": [
        "clear_memory()"
      ]
    },
    {
      "cell_type": "code",
      "execution_count": null,
      "metadata": {
        "id": "2KNgswnb2xqN",
        "outputId": "e76b6643-f7a7-4757-da5f-20a6be6365f3"
      },
      "outputs": [
        {
          "data": {
            "text/plain": [
              "([['what', 'movies', 'star', 'cameron', 'diaz']],\n",
              " [['O', 'O', 'O', 'B-NAME_STUDENT', 'I-NAME_STUDENT']])"
            ]
          },
          "execution_count": 22,
          "metadata": {},
          "output_type": "execute_result"
        }
      ],
      "source": [
        "text = '''what movies star cameron diaz'''\n",
        "ner_model.predict_text(text)"
      ]
    },
    {
      "cell_type": "code",
      "execution_count": null,
      "metadata": {
        "id": "uLrOaFEA2xqO"
      },
      "outputs": [],
      "source": [
        "def single_sent_test(text):\n",
        "\n",
        "    single_sent_test = ner_model.predict_text(text)\n",
        "\n",
        "    df_w = pd.DataFrame({'words': single_sent_test[0]})\n",
        "    df_t = pd.DataFrame({'tags': single_sent_test[1]})\n",
        "\n",
        "    test_explode_words = df_w.explode('words', ignore_index=True)\n",
        "    test_explode_tags = df_t.explode('tags', ignore_index=True)\n",
        "\n",
        "    test_sent_df = test_explode_words.join(test_explode_tags, how='left')\n",
        "\n",
        "    return test_sent_df"
      ]
    },
    {
      "cell_type": "code",
      "execution_count": null,
      "metadata": {
        "id": "KL2hjG7P2xqO",
        "outputId": "a56276df-d5d3-40b2-dca8-749bd5172263"
      },
      "outputs": [
        {
          "data": {
            "text/html": [
              "<div>\n",
              "<style scoped>\n",
              "    .dataframe tbody tr th:only-of-type {\n",
              "        vertical-align: middle;\n",
              "    }\n",
              "\n",
              "    .dataframe tbody tr th {\n",
              "        vertical-align: top;\n",
              "    }\n",
              "\n",
              "    .dataframe thead th {\n",
              "        text-align: right;\n",
              "    }\n",
              "</style>\n",
              "<table border=\"1\" class=\"dataframe\">\n",
              "  <thead>\n",
              "    <tr style=\"text-align: right;\">\n",
              "      <th></th>\n",
              "      <th>words</th>\n",
              "      <th>tags</th>\n",
              "    </tr>\n",
              "  </thead>\n",
              "  <tbody>\n",
              "    <tr>\n",
              "      <th>0</th>\n",
              "      <td>My</td>\n",
              "      <td>O</td>\n",
              "    </tr>\n",
              "    <tr>\n",
              "      <th>1</th>\n",
              "      <td>name</td>\n",
              "      <td>O</td>\n",
              "    </tr>\n",
              "    <tr>\n",
              "      <th>2</th>\n",
              "      <td>is</td>\n",
              "      <td>O</td>\n",
              "    </tr>\n",
              "    <tr>\n",
              "      <th>3</th>\n",
              "      <td>Yash</td>\n",
              "      <td>B-NAME_STUDENT</td>\n",
              "    </tr>\n",
              "    <tr>\n",
              "      <th>4</th>\n",
              "      <td>Bhardwaj</td>\n",
              "      <td>I-NAME_STUDENT</td>\n",
              "    </tr>\n",
              "    <tr>\n",
              "      <th>5</th>\n",
              "      <td>,</td>\n",
              "      <td>O</td>\n",
              "    </tr>\n",
              "    <tr>\n",
              "      <th>6</th>\n",
              "      <td>my</td>\n",
              "      <td>O</td>\n",
              "    </tr>\n",
              "    <tr>\n",
              "      <th>7</th>\n",
              "      <td>email</td>\n",
              "      <td>O</td>\n",
              "    </tr>\n",
              "    <tr>\n",
              "      <th>8</th>\n",
              "      <td>id</td>\n",
              "      <td>O</td>\n",
              "    </tr>\n",
              "    <tr>\n",
              "      <th>9</th>\n",
              "      <td>is</td>\n",
              "      <td>O</td>\n",
              "    </tr>\n",
              "    <tr>\n",
              "      <th>10</th>\n",
              "      <td>yashb</td>\n",
              "      <td>B-EMAIL</td>\n",
              "    </tr>\n",
              "    <tr>\n",
              "      <th>11</th>\n",
              "      <td>@</td>\n",
              "      <td>B-EMAIL</td>\n",
              "    </tr>\n",
              "    <tr>\n",
              "      <th>12</th>\n",
              "      <td>uchicago.edu</td>\n",
              "      <td>B-EMAIL</td>\n",
              "    </tr>\n",
              "    <tr>\n",
              "      <th>13</th>\n",
              "      <td>.</td>\n",
              "      <td>O</td>\n",
              "    </tr>\n",
              "    <tr>\n",
              "      <th>14</th>\n",
              "      <td>My</td>\n",
              "      <td>O</td>\n",
              "    </tr>\n",
              "    <tr>\n",
              "      <th>15</th>\n",
              "      <td>phone</td>\n",
              "      <td>O</td>\n",
              "    </tr>\n",
              "    <tr>\n",
              "      <th>16</th>\n",
              "      <td>number</td>\n",
              "      <td>O</td>\n",
              "    </tr>\n",
              "    <tr>\n",
              "      <th>17</th>\n",
              "      <td>is</td>\n",
              "      <td>O</td>\n",
              "    </tr>\n",
              "    <tr>\n",
              "      <th>18</th>\n",
              "      <td>(</td>\n",
              "      <td>B-PHONE_NUM</td>\n",
              "    </tr>\n",
              "    <tr>\n",
              "      <th>19</th>\n",
              "      <td>224</td>\n",
              "      <td>I-PHONE_NUM</td>\n",
              "    </tr>\n",
              "    <tr>\n",
              "      <th>20</th>\n",
              "      <td>)</td>\n",
              "      <td>I-PHONE_NUM</td>\n",
              "    </tr>\n",
              "    <tr>\n",
              "      <th>21</th>\n",
              "      <td>706-4831</td>\n",
              "      <td>I-PHONE_NUM</td>\n",
              "    </tr>\n",
              "  </tbody>\n",
              "</table>\n",
              "</div>"
            ],
            "text/plain": [
              "           words            tags\n",
              "0             My               O\n",
              "1           name               O\n",
              "2             is               O\n",
              "3           Yash  B-NAME_STUDENT\n",
              "4       Bhardwaj  I-NAME_STUDENT\n",
              "5              ,               O\n",
              "6             my               O\n",
              "7          email               O\n",
              "8             id               O\n",
              "9             is               O\n",
              "10         yashb         B-EMAIL\n",
              "11             @         B-EMAIL\n",
              "12  uchicago.edu         B-EMAIL\n",
              "13             .               O\n",
              "14            My               O\n",
              "15         phone               O\n",
              "16        number               O\n",
              "17            is               O\n",
              "18             (     B-PHONE_NUM\n",
              "19           224     I-PHONE_NUM\n",
              "20             )     I-PHONE_NUM\n",
              "21      706-4831     I-PHONE_NUM"
            ]
          },
          "execution_count": 25,
          "metadata": {},
          "output_type": "execute_result"
        }
      ],
      "source": [
        "text = '''My name is Yash Bhardwaj, my email id is yashb@uchicago.edu. My phone number is (224) 706-4831'''\n",
        "single_sent_test(text)"
      ]
    },
    {
      "cell_type": "code",
      "execution_count": null,
      "metadata": {
        "id": "uV1BdOYw2xqO",
        "outputId": "e6ac691d-babf-470d-d1de-c5c12d80ee41"
      },
      "outputs": [
        {
          "data": {
            "text/plain": [
              "['B-NAME_STUDENT',\n",
              " 'I-NAME_STUDENT',\n",
              " 'B-URL_PERSONAL',\n",
              " 'B-EMAIL',\n",
              " 'B-ID_NUM',\n",
              " 'I-URL_PERSONAL',\n",
              " 'B-USERNAME',\n",
              " 'B-PHONE_NUM',\n",
              " 'I-PHONE_NUM',\n",
              " 'B-STREET_ADDRESS',\n",
              " 'I-STREET_ADDRESS']"
            ]
          },
          "execution_count": 50,
          "metadata": {},
          "output_type": "execute_result"
        }
      ],
      "source": [
        "tag_scheme"
      ]
    },
    {
      "cell_type": "code",
      "execution_count": null,
      "metadata": {
        "id": "iYPU1FVU2xqO"
      },
      "outputs": [],
      "source": []
    },
    {
      "cell_type": "code",
      "execution_count": null,
      "metadata": {
        "id": "YWKIMDRE2xqO"
      },
      "outputs": [],
      "source": [
        "clear_memory()"
      ]
    },
    {
      "cell_type": "code",
      "execution_count": null,
      "metadata": {
        "id": "1p5EcWiJ2xqO"
      },
      "outputs": [],
      "source": []
    }
  ],
  "metadata": {
    "kernelspec": {
      "display_name": "nlp",
      "language": "python",
      "name": "python3"
    },
    "language_info": {
      "codemirror_mode": {
        "name": "ipython",
        "version": 3
      },
      "file_extension": ".py",
      "mimetype": "text/x-python",
      "name": "python",
      "nbconvert_exporter": "python",
      "pygments_lexer": "ipython3",
      "version": "3.12.2"
    },
    "colab": {
      "provenance": []
    }
  },
  "nbformat": 4,
  "nbformat_minor": 0
}